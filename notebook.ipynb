{
 "cells": [
  {
   "cell_type": "code",
   "execution_count": 2,
   "metadata": {},
   "outputs": [],
   "source": [
    "import pandas as pd\n",
    "import numpy as np\n",
    "import matplotlib.pyplot as plt\n",
    "import re\n",
    "import os\n",
    "from pathlib import Path\n",
    "import gc\n",
    "\n",
    "project_dir = Path(\"notebook.ipynb\").resolve().parents[0]"
   ]
  },
  {
   "cell_type": "code",
   "execution_count": 2,
   "metadata": {},
   "outputs": [
    {
     "name": "stdout",
     "output_type": "stream",
     "text": [
      "taxa_aprovacao_ensino_medio_value.csv\n",
      "populacao_total_value.csv\n",
      "total_concluintes_ensino_superior_value.csv\n",
      "energia_total_value.csv\n",
      "taxa_analfabetismo_maiores_quinze_anos_value.csv\n",
      "total_concluintes_ensino_medio_value.csv\n",
      "taxa_abandono_ensino_medio_value.csv\n",
      "energia_total_consumidores_value.csv\n",
      "taxa_reprovacao_ensino_medio_value.csv\n",
      "taxa_abandono_ensino_fundamental_value.csv\n",
      "total_concluintes_ensino_fundamental_value.csv\n",
      "arrecadao_estadual_total_value.csv\n",
      "taxa_reprovacao_ensino_fundamental_value.csv\n",
      "estimativa_total_populacao_value.csv\n",
      "pib_total_value.csv\n",
      "arrecadacao_tributos_federais_value.csv\n",
      "total_acesso_internet_value.csv\n",
      "taxa_aprovacao_ensino_fundamental_value.csv\n"
     ]
    }
   ],
   "source": [
    "for file in os.listdir(f'{project_dir}/melted_data/'):\n",
    "    print(file)"
   ]
  },
  {
   "cell_type": "code",
   "execution_count": 127,
   "metadata": {},
   "outputs": [
    {
     "name": "stdout",
     "output_type": "stream",
     "text": [
      "Tamanho inicial: (4473, 4)\n",
      "Tamanho final: (4473, 22)\n"
     ]
    }
   ],
   "source": [
    "total=0\n",
    "initial_data = pd.read_csv('data/pib_per_capita_2010_2018.csv', sep=';',decimal=',', skiprows=5, encoding='latin-1')\n",
    "initial_data = initial_data.drop(columns=['latitude','longitude'])\n",
    "\n",
    "for column in initial_data.columns[2:]:\n",
    "    column_name = re.sub(r'\\D*','',column)\n",
    "    initial_data = initial_data.rename(columns={column:f'{column_name}'})\n",
    "\n",
    "var_name = re.findall(r'^[A-Za-z_]*','pib_per_capita_2010_2018.csv')[0][:-1]\n",
    "melted_data = initial_data.melt(id_vars=['Município','ibge'], var_name=f'ano', value_name=f'{var_name}_value')\n",
    "melted_data = melted_data.astype({'ibge':'int','ano':'int'})\n",
    "print(f'Tamanho inicial: {melted_data.shape}')\n",
    "for file in os.listdir(f'{project_dir}/data/'):\n",
    "    if file == ('pib_per_capita_2010_2018.csv'):\n",
    "        continue\n",
    "    elif file == 'TarifaMediaFornecimento.csv':\n",
    "        continue\n",
    "    else:\n",
    "        data= pd.read_csv(f'{project_dir}/data/{file}',sep=';',decimal=',', skiprows=5, encoding='latin-1')\n",
    "        data= data.drop(columns=['latitude','longitude'])\n",
    "        var_name = re.findall(r'^[A-Za-z_]*',file)[0][:-1]\n",
    "\n",
    "        for column in data.columns[2:]:\n",
    "            column_name = re.sub(r'\\D*','',column)\n",
    "            data = data.rename(columns={column:f'{column_name}'})\n",
    "        \n",
    "        data_melted = data.melt(id_vars=['Município','ibge'], var_name=f'ano', value_name=f'{var_name}_value')\n",
    "        #data_melted = data_melted[f'{var_name}_value']\n",
    "        data_melted.to_csv(f'{project_dir}/melted_data/{var_name}_value.csv', sep=';', decimal=',', encoding='latin-1', index=False)\n",
    "    total+= 1\n",
    "\n",
    "for file in os.listdir(f'{project_dir}/melted_data/'):\n",
    "    df= pd.read_csv(f'{project_dir}/melted_data/{file}', decimal=',',sep=';', encoding='latin-1')\n",
    "    df = df.astype({'ibge':'int','ano':'int'})\n",
    "    melted_data = melted_data.merge(df, on=['ibge','ano'], suffixes=('','_D'), how='outer')\n",
    "    melted_data = melted_data.drop(melted_data.filter(regex='_D$').columns.tolist(), axis=1)\n",
    "    melted_data.to_csv(f'{project_dir}/preliminar_dataset.csv', sep=';',decimal=',', encoding='latin-1')\n",
    "\n",
    "final_dataset = melted_data\n",
    "final_dataset.to_csv(f'{project_dir}/final_dataset.csv', sep=';',decimal=',', encoding='latin-1')\n",
    "print(f'Tamanho final: {final_dataset.shape}')"
   ]
  },
  {
   "cell_type": "code",
   "execution_count": 139,
   "metadata": {},
   "outputs": [
    {
     "name": "stdout",
     "output_type": "stream",
     "text": [
      "<class 'pandas.core.frame.DataFrame'>\n",
      "Int64Index: 4473 entries, 0 to 4472\n",
      "Data columns (total 22 columns):\n",
      " #   Column                                        Non-Null Count  Dtype  \n",
      "---  ------                                        --------------  -----  \n",
      " 0   Município                                     4473 non-null   object \n",
      " 1   ibge                                          4473 non-null   int64  \n",
      " 2   ano                                           4473 non-null   int64  \n",
      " 3   pib_per_capita_value                          4473 non-null   object \n",
      " 4   taxa_aprovacao_ensino_medio_value             4464 non-null   object \n",
      " 5   populacao_total_value                         496 non-null    float64\n",
      " 6   total_concluintes_ensino_superior_value       800 non-null    object \n",
      " 7   energia_total_value                           4149 non-null   object \n",
      " 8   taxa_analfabetismo_maiores_quinze_anos_value  496 non-null    float64\n",
      " 9   total_concluintes_ensino_medio_value          2485 non-null   object \n",
      " 10  taxa_abandono_ensino_medio_value              4473 non-null   object \n",
      " 11  energia_total_consumidores_value              4149 non-null   object \n",
      " 12  taxa_reprovacao_ensino_medio_value            4464 non-null   object \n",
      " 13  taxa_abandono_ensino_fundamental_value        4473 non-null   object \n",
      " 14  total_concluintes_ensino_fundamental_value    2485 non-null   object \n",
      " 15  arrecadao_estadual_total_value                4473 non-null   int64  \n",
      " 16  taxa_reprovacao_ensino_fundamental_value      4473 non-null   object \n",
      " 17  estimativa_total_populacao_value              4473 non-null   int64  \n",
      " 18  pib_total_value                               4473 non-null   object \n",
      " 19  arrecadacao_tributos_federais_value           2982 non-null   object \n",
      " 20  total_acesso_internet_value                   4473 non-null   object \n",
      " 21  taxa_aprovacao_ensino_fundamental_value       4473 non-null   object \n",
      "dtypes: float64(2), int64(4), object(16)\n",
      "memory usage: 803.7+ KB\n"
     ]
    }
   ],
   "source": [
    "final_dataset.info()"
   ]
  }
 ],
 "metadata": {
  "interpreter": {
   "hash": "7f9569f1cf38496a20bb63a812204f6e6a0e56470429a70e95e636c231b9bbf1"
  },
  "kernelspec": {
   "display_name": "Python 3.7.6 64-bit ('base': conda)",
   "name": "python3"
  },
  "language_info": {
   "codemirror_mode": {
    "name": "ipython",
    "version": 3
   },
   "file_extension": ".py",
   "mimetype": "text/x-python",
   "name": "python",
   "nbconvert_exporter": "python",
   "pygments_lexer": "ipython3",
   "version": "3.7.6"
  },
  "orig_nbformat": 4
 },
 "nbformat": 4,
 "nbformat_minor": 2
}
