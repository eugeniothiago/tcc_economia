{
 "cells": [
  {
   "cell_type": "code",
   "execution_count": 1,
   "metadata": {},
   "outputs": [],
   "source": [
    "import pandas as pd\n",
    "import numpy as np\n",
    "import matplotlib.pyplot as plt\n",
    "import re\n",
    "import os\n",
    "from pathlib import Path\n",
    "import gc\n",
    "from zipfile import ZipFile\n",
    "from unidecode import unidecode\n",
    "\n",
    "project_dir = Path(\"notebook.ipynb\").resolve().parents[0]"
   ]
  },
  {
   "cell_type": "code",
   "execution_count": 2,
   "metadata": {},
   "outputs": [
    {
     "name": "stdout",
     "output_type": "stream",
     "text": [
      "Tamanho final: (22497, 173)\n"
     ]
    }
   ],
   "source": [
    "# lẽ todos os arquivos .zip e descompacta na pasta raw_data:\n",
    "for archive in os.listdir(f'{project_dir}/raw_data'):\n",
    "    with ZipFile(f'{project_dir}/raw_data/{archive}','r') as zipfile:\n",
    "        zipfile.extractall(f'{project_dir}/data/')\n",
    "\n",
    "total=0\n",
    "\n",
    "gc.collect()\n",
    "\n",
    "#transforma os dados da forma wide para forma long, além de padronizar nomes de colunas:\n",
    "for file in os.listdir(f'{project_dir}/data/'):\n",
    "    if file == 'TarifaMediaFornecimento.csv':\n",
    "        continue\n",
    "    else:\n",
    "        data = pd.read_csv(f'{project_dir}/data/{file}',sep='\\n', encoding='latin-1', header=None)\n",
    "        data = data[0].str.split(';', expand=True)\n",
    "        data = data.reset_index(drop=True)\n",
    "        var_name = data[0][1][7:]\n",
    "        var_name = unidecode(var_name).lower().strip().replace(' ','_').replace('/','_').replace(':','')\n",
    "        data.columns = data.iloc[5].tolist()\n",
    "        data = data.drop([0,1,2,3,4,5], axis=0).reset_index(drop=True)\n",
    "        data = data.drop(columns=['latitude','longitude'])\n",
    "        for column in data.columns[2:]:\n",
    "            column_name = re.sub(r'\\D*','',column)\n",
    "            data = data.rename(columns={column:f'{column_name}'})\n",
    "        \n",
    "        data_melted = data.melt(id_vars=['Município','ibge'], var_name=f'ano', value_name=f'{var_name}_value')\n",
    "        data_melted.to_csv(f'{project_dir}/melted_data/{var_name}_value.csv', sep=';', decimal=',', encoding='latin-1', index=False)\n",
    "    total+= 1\n",
    "\n",
    "melted_data = pd.read_csv(f'{project_dir}/melted_data/__educacao_ensino_fundamental_taxa_de_abandono_total_value.csv', header=None, sep='\\n',encoding='latin-1')\n",
    "melted_data = melted_data[0].str.split(';', expand=True)\n",
    "melted_data.columns= melted_data.iloc[0]\n",
    "melted_data = melted_data.drop([0], axis=0)\n",
    "melted_data = melted_data.astype({'ibge':'str','ano':'str'})\n",
    "\n",
    "gc.collect()\n",
    "\n",
    "\n",
    "#concatena todos os arquivos em um único dataset:\n",
    "for file in os.listdir(f'{project_dir}/melted_data/'):\n",
    "    if file =='__educacao_ensino_fundamental_taxa_de_abandono_total_value.csv':\n",
    "        continue\n",
    "    df= pd.read_csv(f'{project_dir}/melted_data/{file}', header=None, sep='\\n', encoding='latin-1')\n",
    "    df = df[0].str.split(';', expand=True)\n",
    "    df.columns = df.iloc[0]\n",
    "    df = df.drop([0], axis=0)\n",
    "    df = df.astype({'ibge':'str','ano':'str'})\n",
    "    melted_data = melted_data.merge(df, on=['Município','ibge','ano'], suffixes=('','_D'), how='outer')\n",
    "    melted_data = melted_data.drop(melted_data.filter(regex='_D$').columns.tolist(), axis=1)\n",
    "    melted_data.to_csv(f'{project_dir}/preliminar_dataset.csv', sep=';',decimal=',', encoding='latin-1')\n",
    "\n",
    "final_dataset = melted_data\n",
    "final_dataset.to_csv(f'{project_dir}/final_dataset.csv', sep=';',decimal=',', encoding='latin-1')\n",
    "print(f'Tamanho final: {final_dataset.shape}')"
   ]
  },
  {
   "cell_type": "code",
   "execution_count": 5,
   "metadata": {},
   "outputs": [
    {
     "data": {
      "text/plain": [
       "(22497, 173)"
      ]
     },
     "execution_count": 5,
     "metadata": {},
     "output_type": "execute_result"
    }
   ],
   "source": [
    "final_dataset.shape"
   ]
  }
 ],
 "metadata": {
  "interpreter": {
   "hash": "7f9569f1cf38496a20bb63a812204f6e6a0e56470429a70e95e636c231b9bbf1"
  },
  "kernelspec": {
   "display_name": "Python 3.7.6 64-bit ('base': conda)",
   "name": "python3"
  },
  "language_info": {
   "codemirror_mode": {
    "name": "ipython",
    "version": 3
   },
   "file_extension": ".py",
   "mimetype": "text/x-python",
   "name": "python",
   "nbconvert_exporter": "python",
   "pygments_lexer": "ipython3",
   "version": "3.7.6"
  },
  "orig_nbformat": 4
 },
 "nbformat": 4,
 "nbformat_minor": 2
}
